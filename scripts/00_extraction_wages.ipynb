{
 "cells": [
  {
   "cell_type": "markdown",
   "metadata": {},
   "source": [
    "## Extracción de datos"
   ]
  },
  {
   "cell_type": "code",
   "execution_count": null,
   "metadata": {},
   "outputs": [],
   "source": [
    "from selenium import webdriver\n",
    "from selenium.webdriver.chrome.options import Options\n",
    "from selenium.webdriver.common.by import By\n",
    "from selenium.webdriver.support.ui import WebDriverWait\n",
    "from selenium.webdriver.support import expected_conditions as EC\n",
    "from bs4 import BeautifulSoup\n",
    "import pandas as pd\n",
    "import time\n",
    "import os"
   ]
  },
  {
   "cell_type": "code",
   "execution_count": null,
   "metadata": {},
   "outputs": [],
   "source": [
    "\n",
    "current_directory = os.getcwd()\n",
    "parent_directory = os.path.dirname(current_directory)"
   ]
  },
  {
   "cell_type": "code",
   "execution_count": null,
   "metadata": {},
   "outputs": [],
   "source": [
    "# Lista de URLs a scrapear\n",
    "urls = [\n",
    "    \"https://sofifa.com/players?type=all&lg%5B0%5D=13&tm%5B0%5D=1&r=220069&set=true\",\n",
    "    \"https://sofifa.com/players?type=all&lg%5B%5D=13&tm%5B0%5D=2\",\n",
    "    \"https://sofifa.com/players?type=all&lg%5B%5D=13&tm%5B0%5D=1795\",\n",
    "    \"https://sofifa.com/players?type=all&lg%5B%5D=13&tm%5B0%5D=1925\",\n",
    "    \"https://sofifa.com/players?type=all&lg%5B%5D=13&tm%5B0%5D=1808\",\n",
    "    \"https://sofifa.com/players?type=all&lg%5B%5D=13&tm%5B0%5D=5\",\n",
    "    \"https://sofifa.com/players?type=all&lg%5B%5D=13&tm%5B0%5D=1799\",\n",
    "    \"https://sofifa.com/players?type=all&lg%5B%5D=13&tm%5B0%5D=7\",\n",
    "    \"https://sofifa.com/players?type=all&lg%5B%5D=13&tm%5B0%5D=1792\",\n",
    "    \"https://sofifa.com/players?type=all&lg%5B%5D=13&tm%5B0%5D=8\",\n",
    "    \"https://sofifa.com/players?type=all&lg%5B%5D=13&tm%5B0%5D=95\",\n",
    "    \"https://sofifa.com/players?type=all&lg%5B%5D=13&tm%5B0%5D=9\",\n",
    "    \"https://sofifa.com/players?type=all&lg%5B%5D=13&tm%5B0%5D=10\",\n",
    "    \"https://sofifa.com/players?type=all&lg%5B%5D=13&tm%5B0%5D=11\",\n",
    "    \"https://sofifa.com/players?type=all&lg%5B%5D=13&tm%5B0%5D=13\",\n",
    "    \"https://sofifa.com/players?type=all&lg%5B%5D=13&tm%5B0%5D=1796\",\n",
    "    \"https://sofifa.com/players?type=all&lg%5B%5D=13&tm%5B0%5D=17\",\n",
    "    \"https://sofifa.com/players?type=all&lg%5B%5D=13&tm%5B0%5D=18\",\n",
    "    \"https://sofifa.com/players?type=all&lg%5B%5D=13&tm%5B0%5D=19\",\n",
    "    \"https://sofifa.com/players?type=all&lg%5B%5D=13&tm%5B0%5D=110\"\n",
    "]"
   ]
  },
  {
   "cell_type": "code",
   "execution_count": null,
   "metadata": {},
   "outputs": [],
   "source": [
    "# Configuración de Selenium para Chrome en modo headless\n",
    "chrome_options = Options()\n",
    "chrome_options.add_argument(\"--headless\")\n",
    "chrome_options.add_argument(\"--disable-gpu\")\n",
    "chrome_options.add_argument(\"--no-sandbox\")\n",
    "# Opcional: agregar un user-agent para imitar un navegador real\n",
    "chrome_options.add_argument(\"user-agent=Mozilla/5.0 (Windows NT 10.0; Win64; x64) \"\n",
    "                            \"AppleWebKit/537.36 (KHTML, like Gecko) \"\n",
    "                            \"Chrome/115.0.0.0 Safari/537.36\")"
   ]
  },
  {
   "cell_type": "code",
   "execution_count": null,
   "metadata": {},
   "outputs": [],
   "source": [
    "# Inicializar el WebDriver (asegúrate de tener chromedriver instalado y en tu PATH)\n",
    "driver = webdriver.Chrome(options=chrome_options)\n",
    "driver.set_window_size(1920, 1080)\n"
   ]
  },
  {
   "cell_type": "code",
   "execution_count": null,
   "metadata": {},
   "outputs": [],
   "source": [
    "all_data = []  # Lista para almacenar los datos extraídos (cada fila es un diccionario)\n",
    "\n",
    "# Recorrer cada URL y extraer la tabla\n",
    "for url in urls:\n",
    "    print(f\"Procesando {url}\")\n",
    "    try:\n",
    "        driver.get(url)\n",
    "        # Esperar hasta que la tabla esté presente (máximo 10 segundos)\n",
    "        WebDriverWait(driver, 10).until(\n",
    "            EC.presence_of_element_located((By.TAG_NAME, \"table\"))\n",
    "        )\n",
    "        \n",
    "        # Obtener el contenido de la página y parsearlo con BeautifulSoup\n",
    "        soup = BeautifulSoup(driver.page_source, \"html.parser\")\n",
    "        table = soup.find(\"table\")\n",
    "        \n",
    "        if table:\n",
    "            # Extraer cabeceras de la tabla (<th>)\n",
    "            headers = [th.text.strip() for th in table.find_all(\"th\")]\n",
    "            # Iterar sobre las filas de la tabla (<tr>)\n",
    "            for row in table.find_all(\"tr\"):\n",
    "                cells = row.find_all(\"td\")\n",
    "                if cells:\n",
    "                    cell_values = [cell.text.strip() for cell in cells]\n",
    "                    # Crear un diccionario si el número de celdas coincide con el de cabeceras\n",
    "                    if len(headers) == len(cell_values):\n",
    "                        row_dict = dict(zip(headers, cell_values))\n",
    "                        all_data.append(row_dict)\n",
    "        else:\n",
    "            print(\"No se encontró tabla en\", url)\n",
    "    except Exception as e:\n",
    "        print(f\"Error al procesar {url}: {e}\")\n",
    "    # Pausa para evitar sobrecargar el servidor\n",
    "    time.sleep(2)\n",
    "\n",
    "driver.quit()"
   ]
  },
  {
   "cell_type": "code",
   "execution_count": null,
   "metadata": {},
   "outputs": [],
   "source": [
    "# Crear un DataFrame a partir de la lista de diccionarios\n",
    "df = pd.DataFrame(all_data)\n",
    "df"
   ]
  },
  {
   "cell_type": "code",
   "execution_count": null,
   "metadata": {},
   "outputs": [],
   "source": [
    "df.drop(columns=df.columns[0], axis=1, inplace=True)\n",
    "df"
   ]
  },
  {
   "cell_type": "code",
   "execution_count": null,
   "metadata": {},
   "outputs": [],
   "source": [
    "dir_path = os.path.join(parent_directory, \"data\", \"raw\")"
   ]
  },
  {
   "cell_type": "code",
   "execution_count": null,
   "metadata": {},
   "outputs": [],
   "source": [
    "df.to_csv(os.path.join(dir_path,'premier_league_2022_wages_sofifa.csv'), index=False)"
   ]
  }
 ],
 "metadata": {
  "kernelspec": {
   "display_name": ".venv",
   "language": "python",
   "name": "python3"
  },
  "language_info": {
   "codemirror_mode": {
    "name": "ipython",
    "version": 3
   },
   "file_extension": ".py",
   "mimetype": "text/x-python",
   "name": "python",
   "nbconvert_exporter": "python",
   "pygments_lexer": "ipython3",
   "version": "3.10.6"
  }
 },
 "nbformat": 4,
 "nbformat_minor": 2
}
